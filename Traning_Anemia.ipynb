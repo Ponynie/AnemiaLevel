{
 "cells": [
  {
   "cell_type": "markdown",
   "metadata": {},
   "source": [
    "# CLASSIFICATION PROJECT"
   ]
  },
  {
   "cell_type": "markdown",
   "metadata": {},
   "source": [
    "## Data preparing"
   ]
  },
  {
   "cell_type": "markdown",
   "metadata": {},
   "source": [
    "### Import library and file"
   ]
  },
  {
   "cell_type": "code",
   "execution_count": 77,
   "metadata": {},
   "outputs": [
    {
     "data": {
      "text/html": [
       "<div>\n",
       "<style scoped>\n",
       "    .dataframe tbody tr th:only-of-type {\n",
       "        vertical-align: middle;\n",
       "    }\n",
       "\n",
       "    .dataframe tbody tr th {\n",
       "        vertical-align: top;\n",
       "    }\n",
       "\n",
       "    .dataframe thead th {\n",
       "        text-align: right;\n",
       "    }\n",
       "</style>\n",
       "<table border=\"1\" class=\"dataframe\">\n",
       "  <thead>\n",
       "    <tr style=\"text-align: right;\">\n",
       "      <th></th>\n",
       "      <th>Age in 5-year groups</th>\n",
       "      <th>Type of place of residence</th>\n",
       "      <th>Highest educational level</th>\n",
       "      <th>Wealth index combined</th>\n",
       "      <th>Births in last five years</th>\n",
       "      <th>Age of respondent at 1st birth</th>\n",
       "      <th>Hemoglobin level adjusted for altitude and smoking (g/dl - 1 decimal)</th>\n",
       "      <th>Anemia level</th>\n",
       "      <th>Have mosquito bed net for sleeping (from household questionnaire)</th>\n",
       "      <th>Smokes cigarettes</th>\n",
       "      <th>Current marital status</th>\n",
       "      <th>Currently residing with husband/partner</th>\n",
       "      <th>When child put to breast</th>\n",
       "      <th>Had fever in last two weeks</th>\n",
       "      <th>Hemoglobin level adjusted for altitude (g/dl - 1 decimal)</th>\n",
       "      <th>Anemia level.1</th>\n",
       "      <th>Taking iron pills, sprinkles or syrup</th>\n",
       "    </tr>\n",
       "  </thead>\n",
       "  <tbody>\n",
       "    <tr>\n",
       "      <th>count</th>\n",
       "      <td>33824</td>\n",
       "      <td>33824</td>\n",
       "      <td>33824</td>\n",
       "      <td>33824</td>\n",
       "      <td>33824.000000</td>\n",
       "      <td>33824.000000</td>\n",
       "      <td>13095.000000</td>\n",
       "      <td>13095</td>\n",
       "      <td>33824</td>\n",
       "      <td>33824</td>\n",
       "      <td>33824</td>\n",
       "      <td>32131</td>\n",
       "      <td>21102</td>\n",
       "      <td>30622</td>\n",
       "      <td>10144.000000</td>\n",
       "      <td>10144</td>\n",
       "      <td>30622</td>\n",
       "    </tr>\n",
       "    <tr>\n",
       "      <th>unique</th>\n",
       "      <td>7</td>\n",
       "      <td>2</td>\n",
       "      <td>4</td>\n",
       "      <td>5</td>\n",
       "      <td>NaN</td>\n",
       "      <td>NaN</td>\n",
       "      <td>NaN</td>\n",
       "      <td>4</td>\n",
       "      <td>2</td>\n",
       "      <td>2</td>\n",
       "      <td>6</td>\n",
       "      <td>2</td>\n",
       "      <td>41</td>\n",
       "      <td>3</td>\n",
       "      <td>NaN</td>\n",
       "      <td>4</td>\n",
       "      <td>3</td>\n",
       "    </tr>\n",
       "    <tr>\n",
       "      <th>top</th>\n",
       "      <td>25-29</td>\n",
       "      <td>Rural</td>\n",
       "      <td>No education</td>\n",
       "      <td>Poorest</td>\n",
       "      <td>NaN</td>\n",
       "      <td>NaN</td>\n",
       "      <td>NaN</td>\n",
       "      <td>Not anemic</td>\n",
       "      <td>Yes</td>\n",
       "      <td>No</td>\n",
       "      <td>Married</td>\n",
       "      <td>Living with her</td>\n",
       "      <td>Immediately</td>\n",
       "      <td>No</td>\n",
       "      <td>NaN</td>\n",
       "      <td>Moderate</td>\n",
       "      <td>No</td>\n",
       "    </tr>\n",
       "    <tr>\n",
       "      <th>freq</th>\n",
       "      <td>9445</td>\n",
       "      <td>22164</td>\n",
       "      <td>15345</td>\n",
       "      <td>8046</td>\n",
       "      <td>NaN</td>\n",
       "      <td>NaN</td>\n",
       "      <td>NaN</td>\n",
       "      <td>5317</td>\n",
       "      <td>23955</td>\n",
       "      <td>33753</td>\n",
       "      <td>31132</td>\n",
       "      <td>29528</td>\n",
       "      <td>9324</td>\n",
       "      <td>23002</td>\n",
       "      <td>NaN</td>\n",
       "      <td>3905</td>\n",
       "      <td>25290</td>\n",
       "    </tr>\n",
       "    <tr>\n",
       "      <th>mean</th>\n",
       "      <td>NaN</td>\n",
       "      <td>NaN</td>\n",
       "      <td>NaN</td>\n",
       "      <td>NaN</td>\n",
       "      <td>1.823616</td>\n",
       "      <td>19.570187</td>\n",
       "      <td>114.361359</td>\n",
       "      <td>NaN</td>\n",
       "      <td>NaN</td>\n",
       "      <td>NaN</td>\n",
       "      <td>NaN</td>\n",
       "      <td>NaN</td>\n",
       "      <td>NaN</td>\n",
       "      <td>NaN</td>\n",
       "      <td>101.278884</td>\n",
       "      <td>NaN</td>\n",
       "      <td>NaN</td>\n",
       "    </tr>\n",
       "    <tr>\n",
       "      <th>std</th>\n",
       "      <td>NaN</td>\n",
       "      <td>NaN</td>\n",
       "      <td>NaN</td>\n",
       "      <td>NaN</td>\n",
       "      <td>0.705562</td>\n",
       "      <td>4.313092</td>\n",
       "      <td>15.922923</td>\n",
       "      <td>NaN</td>\n",
       "      <td>NaN</td>\n",
       "      <td>NaN</td>\n",
       "      <td>NaN</td>\n",
       "      <td>NaN</td>\n",
       "      <td>NaN</td>\n",
       "      <td>NaN</td>\n",
       "      <td>15.570919</td>\n",
       "      <td>NaN</td>\n",
       "      <td>NaN</td>\n",
       "    </tr>\n",
       "    <tr>\n",
       "      <th>min</th>\n",
       "      <td>NaN</td>\n",
       "      <td>NaN</td>\n",
       "      <td>NaN</td>\n",
       "      <td>NaN</td>\n",
       "      <td>1.000000</td>\n",
       "      <td>12.000000</td>\n",
       "      <td>20.000000</td>\n",
       "      <td>NaN</td>\n",
       "      <td>NaN</td>\n",
       "      <td>NaN</td>\n",
       "      <td>NaN</td>\n",
       "      <td>NaN</td>\n",
       "      <td>NaN</td>\n",
       "      <td>NaN</td>\n",
       "      <td>29.000000</td>\n",
       "      <td>NaN</td>\n",
       "      <td>NaN</td>\n",
       "    </tr>\n",
       "    <tr>\n",
       "      <th>25%</th>\n",
       "      <td>NaN</td>\n",
       "      <td>NaN</td>\n",
       "      <td>NaN</td>\n",
       "      <td>NaN</td>\n",
       "      <td>1.000000</td>\n",
       "      <td>16.000000</td>\n",
       "      <td>105.000000</td>\n",
       "      <td>NaN</td>\n",
       "      <td>NaN</td>\n",
       "      <td>NaN</td>\n",
       "      <td>NaN</td>\n",
       "      <td>NaN</td>\n",
       "      <td>NaN</td>\n",
       "      <td>NaN</td>\n",
       "      <td>92.000000</td>\n",
       "      <td>NaN</td>\n",
       "      <td>NaN</td>\n",
       "    </tr>\n",
       "    <tr>\n",
       "      <th>50%</th>\n",
       "      <td>NaN</td>\n",
       "      <td>NaN</td>\n",
       "      <td>NaN</td>\n",
       "      <td>NaN</td>\n",
       "      <td>2.000000</td>\n",
       "      <td>19.000000</td>\n",
       "      <td>115.000000</td>\n",
       "      <td>NaN</td>\n",
       "      <td>NaN</td>\n",
       "      <td>NaN</td>\n",
       "      <td>NaN</td>\n",
       "      <td>NaN</td>\n",
       "      <td>NaN</td>\n",
       "      <td>NaN</td>\n",
       "      <td>103.000000</td>\n",
       "      <td>NaN</td>\n",
       "      <td>NaN</td>\n",
       "    </tr>\n",
       "    <tr>\n",
       "      <th>75%</th>\n",
       "      <td>NaN</td>\n",
       "      <td>NaN</td>\n",
       "      <td>NaN</td>\n",
       "      <td>NaN</td>\n",
       "      <td>2.000000</td>\n",
       "      <td>22.000000</td>\n",
       "      <td>125.000000</td>\n",
       "      <td>NaN</td>\n",
       "      <td>NaN</td>\n",
       "      <td>NaN</td>\n",
       "      <td>NaN</td>\n",
       "      <td>NaN</td>\n",
       "      <td>NaN</td>\n",
       "      <td>NaN</td>\n",
       "      <td>112.000000</td>\n",
       "      <td>NaN</td>\n",
       "      <td>NaN</td>\n",
       "    </tr>\n",
       "    <tr>\n",
       "      <th>max</th>\n",
       "      <td>NaN</td>\n",
       "      <td>NaN</td>\n",
       "      <td>NaN</td>\n",
       "      <td>NaN</td>\n",
       "      <td>6.000000</td>\n",
       "      <td>48.000000</td>\n",
       "      <td>218.000000</td>\n",
       "      <td>NaN</td>\n",
       "      <td>NaN</td>\n",
       "      <td>NaN</td>\n",
       "      <td>NaN</td>\n",
       "      <td>NaN</td>\n",
       "      <td>NaN</td>\n",
       "      <td>NaN</td>\n",
       "      <td>170.000000</td>\n",
       "      <td>NaN</td>\n",
       "      <td>NaN</td>\n",
       "    </tr>\n",
       "  </tbody>\n",
       "</table>\n",
       "</div>"
      ],
      "text/plain": [
       "       Age in 5-year groups Type of place of residence  \\\n",
       "count                 33824                      33824   \n",
       "unique                    7                          2   \n",
       "top                   25-29                      Rural   \n",
       "freq                   9445                      22164   \n",
       "mean                    NaN                        NaN   \n",
       "std                     NaN                        NaN   \n",
       "min                     NaN                        NaN   \n",
       "25%                     NaN                        NaN   \n",
       "50%                     NaN                        NaN   \n",
       "75%                     NaN                        NaN   \n",
       "max                     NaN                        NaN   \n",
       "\n",
       "       Highest educational level Wealth index combined  \\\n",
       "count                      33824                 33824   \n",
       "unique                         4                     5   \n",
       "top                 No education               Poorest   \n",
       "freq                       15345                  8046   \n",
       "mean                         NaN                   NaN   \n",
       "std                          NaN                   NaN   \n",
       "min                          NaN                   NaN   \n",
       "25%                          NaN                   NaN   \n",
       "50%                          NaN                   NaN   \n",
       "75%                          NaN                   NaN   \n",
       "max                          NaN                   NaN   \n",
       "\n",
       "        Births in last five years  Age of respondent at 1st birth  \\\n",
       "count                33824.000000                    33824.000000   \n",
       "unique                        NaN                             NaN   \n",
       "top                           NaN                             NaN   \n",
       "freq                          NaN                             NaN   \n",
       "mean                     1.823616                       19.570187   \n",
       "std                      0.705562                        4.313092   \n",
       "min                      1.000000                       12.000000   \n",
       "25%                      1.000000                       16.000000   \n",
       "50%                      2.000000                       19.000000   \n",
       "75%                      2.000000                       22.000000   \n",
       "max                      6.000000                       48.000000   \n",
       "\n",
       "        Hemoglobin level adjusted for altitude and smoking (g/dl - 1 decimal)  \\\n",
       "count                                        13095.000000                       \n",
       "unique                                                NaN                       \n",
       "top                                                   NaN                       \n",
       "freq                                                  NaN                       \n",
       "mean                                           114.361359                       \n",
       "std                                             15.922923                       \n",
       "min                                             20.000000                       \n",
       "25%                                            105.000000                       \n",
       "50%                                            115.000000                       \n",
       "75%                                            125.000000                       \n",
       "max                                            218.000000                       \n",
       "\n",
       "       Anemia level  \\\n",
       "count         13095   \n",
       "unique            4   \n",
       "top      Not anemic   \n",
       "freq           5317   \n",
       "mean            NaN   \n",
       "std             NaN   \n",
       "min             NaN   \n",
       "25%             NaN   \n",
       "50%             NaN   \n",
       "75%             NaN   \n",
       "max             NaN   \n",
       "\n",
       "       Have mosquito bed net for sleeping (from household questionnaire)  \\\n",
       "count                                               33824                  \n",
       "unique                                                  2                  \n",
       "top                                                   Yes                  \n",
       "freq                                                23955                  \n",
       "mean                                                  NaN                  \n",
       "std                                                   NaN                  \n",
       "min                                                   NaN                  \n",
       "25%                                                   NaN                  \n",
       "50%                                                   NaN                  \n",
       "75%                                                   NaN                  \n",
       "max                                                   NaN                  \n",
       "\n",
       "       Smokes cigarettes Current marital status  \\\n",
       "count              33824                  33824   \n",
       "unique                 2                      6   \n",
       "top                   No                Married   \n",
       "freq               33753                  31132   \n",
       "mean                 NaN                    NaN   \n",
       "std                  NaN                    NaN   \n",
       "min                  NaN                    NaN   \n",
       "25%                  NaN                    NaN   \n",
       "50%                  NaN                    NaN   \n",
       "75%                  NaN                    NaN   \n",
       "max                  NaN                    NaN   \n",
       "\n",
       "       Currently residing with husband/partner When child put to breast  \\\n",
       "count                                    32131                    21102   \n",
       "unique                                       2                       41   \n",
       "top                            Living with her              Immediately   \n",
       "freq                                     29528                     9324   \n",
       "mean                                       NaN                      NaN   \n",
       "std                                        NaN                      NaN   \n",
       "min                                        NaN                      NaN   \n",
       "25%                                        NaN                      NaN   \n",
       "50%                                        NaN                      NaN   \n",
       "75%                                        NaN                      NaN   \n",
       "max                                        NaN                      NaN   \n",
       "\n",
       "       Had fever in last two weeks  \\\n",
       "count                        30622   \n",
       "unique                           3   \n",
       "top                             No   \n",
       "freq                         23002   \n",
       "mean                           NaN   \n",
       "std                            NaN   \n",
       "min                            NaN   \n",
       "25%                            NaN   \n",
       "50%                            NaN   \n",
       "75%                            NaN   \n",
       "max                            NaN   \n",
       "\n",
       "        Hemoglobin level adjusted for altitude (g/dl - 1 decimal)  \\\n",
       "count                                        10144.000000           \n",
       "unique                                                NaN           \n",
       "top                                                   NaN           \n",
       "freq                                                  NaN           \n",
       "mean                                           101.278884           \n",
       "std                                             15.570919           \n",
       "min                                             29.000000           \n",
       "25%                                             92.000000           \n",
       "50%                                            103.000000           \n",
       "75%                                            112.000000           \n",
       "max                                            170.000000           \n",
       "\n",
       "       Anemia level.1 Taking iron pills, sprinkles or syrup  \n",
       "count           10144                                 30622  \n",
       "unique              4                                     3  \n",
       "top          Moderate                                    No  \n",
       "freq             3905                                 25290  \n",
       "mean              NaN                                   NaN  \n",
       "std               NaN                                   NaN  \n",
       "min               NaN                                   NaN  \n",
       "25%               NaN                                   NaN  \n",
       "50%               NaN                                   NaN  \n",
       "75%               NaN                                   NaN  \n",
       "max               NaN                                   NaN  "
      ]
     },
     "execution_count": 77,
     "metadata": {},
     "output_type": "execute_result"
    }
   ],
   "source": [
    "import torch\n",
    "from torch.utils.data import DataLoader, TensorDataset\n",
    "import torch.nn.init as init\n",
    "from sklearn.metrics import classification_report, confusion_matrix, accuracy_score\n",
    "import torch.nn as nn\n",
    "import torch.optim as optim\n",
    "import numpy as np\n",
    "import pandas as pd\n",
    "import matplotlib.pyplot as plt\n",
    "import seaborn as sns\n",
    "\n",
    "\n",
    "data = pd.read_csv('/Users/ponynie/Developer/Python_Code/IntroDMLabChula/Final_Project/children anemia.csv')\n",
    "data.describe(include='all')\n",
    "\n",
    "\n"
   ]
  },
  {
   "cell_type": "markdown",
   "metadata": {},
   "source": [
    "### Data cleaning and separation of categorical and numerical columns"
   ]
  },
  {
   "cell_type": "code",
   "execution_count": 78,
   "metadata": {},
   "outputs": [
    {
     "data": {
      "text/html": [
       "<div>\n",
       "<style scoped>\n",
       "    .dataframe tbody tr th:only-of-type {\n",
       "        vertical-align: middle;\n",
       "    }\n",
       "\n",
       "    .dataframe tbody tr th {\n",
       "        vertical-align: top;\n",
       "    }\n",
       "\n",
       "    .dataframe thead th {\n",
       "        text-align: right;\n",
       "    }\n",
       "</style>\n",
       "<table border=\"1\" class=\"dataframe\">\n",
       "  <thead>\n",
       "    <tr style=\"text-align: right;\">\n",
       "      <th></th>\n",
       "      <th>Age in 5-year groups</th>\n",
       "      <th>Type of place of residence</th>\n",
       "      <th>Highest educational level</th>\n",
       "      <th>Wealth index combined</th>\n",
       "      <th>Births in last five years</th>\n",
       "      <th>Age of respondent at 1st birth</th>\n",
       "      <th>Hemoglobin level adjusted for altitude and smoking</th>\n",
       "      <th>Anemia level</th>\n",
       "      <th>Have mosquito bed net for sleeping (from household questionnaire)</th>\n",
       "      <th>Smokes cigarettes</th>\n",
       "      <th>Currently residing with husband/partner</th>\n",
       "      <th>Had fever in last two weeks</th>\n",
       "      <th>Taking iron pills, sprinkles or syrup</th>\n",
       "    </tr>\n",
       "  </thead>\n",
       "  <tbody>\n",
       "    <tr>\n",
       "      <th>3</th>\n",
       "      <td>27.0</td>\n",
       "      <td>Urban</td>\n",
       "      <td>Secondary</td>\n",
       "      <td>Richest</td>\n",
       "      <td>1</td>\n",
       "      <td>25</td>\n",
       "      <td>95.0</td>\n",
       "      <td>Moderate</td>\n",
       "      <td>Yes</td>\n",
       "      <td>No</td>\n",
       "      <td>Living with her</td>\n",
       "      <td>No</td>\n",
       "      <td>No</td>\n",
       "    </tr>\n",
       "    <tr>\n",
       "      <th>5</th>\n",
       "      <td>32.0</td>\n",
       "      <td>Urban</td>\n",
       "      <td>Higher</td>\n",
       "      <td>Richest</td>\n",
       "      <td>1</td>\n",
       "      <td>30</td>\n",
       "      <td>113.0</td>\n",
       "      <td>Mild</td>\n",
       "      <td>Yes</td>\n",
       "      <td>No</td>\n",
       "      <td>Living with her</td>\n",
       "      <td>No</td>\n",
       "      <td>No</td>\n",
       "    </tr>\n",
       "    <tr>\n",
       "      <th>6</th>\n",
       "      <td>37.0</td>\n",
       "      <td>Urban</td>\n",
       "      <td>Secondary</td>\n",
       "      <td>Richest</td>\n",
       "      <td>2</td>\n",
       "      <td>32</td>\n",
       "      <td>121.0</td>\n",
       "      <td>Not anemic</td>\n",
       "      <td>Yes</td>\n",
       "      <td>No</td>\n",
       "      <td>Living with her</td>\n",
       "      <td>No</td>\n",
       "      <td>Yes</td>\n",
       "    </tr>\n",
       "    <tr>\n",
       "      <th>9</th>\n",
       "      <td>22.0</td>\n",
       "      <td>Urban</td>\n",
       "      <td>Secondary</td>\n",
       "      <td>Richest</td>\n",
       "      <td>1</td>\n",
       "      <td>19</td>\n",
       "      <td>108.0</td>\n",
       "      <td>Moderate</td>\n",
       "      <td>Yes</td>\n",
       "      <td>No</td>\n",
       "      <td>Living with her</td>\n",
       "      <td>No</td>\n",
       "      <td>Yes</td>\n",
       "    </tr>\n",
       "    <tr>\n",
       "      <th>12</th>\n",
       "      <td>27.0</td>\n",
       "      <td>Urban</td>\n",
       "      <td>Higher</td>\n",
       "      <td>Richest</td>\n",
       "      <td>1</td>\n",
       "      <td>24</td>\n",
       "      <td>116.0</td>\n",
       "      <td>Mild</td>\n",
       "      <td>Yes</td>\n",
       "      <td>No</td>\n",
       "      <td>Living with her</td>\n",
       "      <td>No</td>\n",
       "      <td>No</td>\n",
       "    </tr>\n",
       "    <tr>\n",
       "      <th>13</th>\n",
       "      <td>22.0</td>\n",
       "      <td>Urban</td>\n",
       "      <td>Higher</td>\n",
       "      <td>Richest</td>\n",
       "      <td>2</td>\n",
       "      <td>19</td>\n",
       "      <td>118.0</td>\n",
       "      <td>Mild</td>\n",
       "      <td>Yes</td>\n",
       "      <td>No</td>\n",
       "      <td>Living with her</td>\n",
       "      <td>No</td>\n",
       "      <td>Yes</td>\n",
       "    </tr>\n",
       "    <tr>\n",
       "      <th>14</th>\n",
       "      <td>22.0</td>\n",
       "      <td>Urban</td>\n",
       "      <td>Higher</td>\n",
       "      <td>Richest</td>\n",
       "      <td>2</td>\n",
       "      <td>19</td>\n",
       "      <td>118.0</td>\n",
       "      <td>Mild</td>\n",
       "      <td>Yes</td>\n",
       "      <td>No</td>\n",
       "      <td>Living with her</td>\n",
       "      <td>No</td>\n",
       "      <td>No</td>\n",
       "    </tr>\n",
       "    <tr>\n",
       "      <th>16</th>\n",
       "      <td>27.0</td>\n",
       "      <td>Urban</td>\n",
       "      <td>Higher</td>\n",
       "      <td>Richest</td>\n",
       "      <td>2</td>\n",
       "      <td>22</td>\n",
       "      <td>134.0</td>\n",
       "      <td>Not anemic</td>\n",
       "      <td>Yes</td>\n",
       "      <td>No</td>\n",
       "      <td>Living with her</td>\n",
       "      <td>No</td>\n",
       "      <td>No</td>\n",
       "    </tr>\n",
       "    <tr>\n",
       "      <th>17</th>\n",
       "      <td>27.0</td>\n",
       "      <td>Urban</td>\n",
       "      <td>Higher</td>\n",
       "      <td>Richest</td>\n",
       "      <td>2</td>\n",
       "      <td>22</td>\n",
       "      <td>134.0</td>\n",
       "      <td>Not anemic</td>\n",
       "      <td>Yes</td>\n",
       "      <td>No</td>\n",
       "      <td>Living with her</td>\n",
       "      <td>No</td>\n",
       "      <td>No</td>\n",
       "    </tr>\n",
       "    <tr>\n",
       "      <th>18</th>\n",
       "      <td>27.0</td>\n",
       "      <td>Urban</td>\n",
       "      <td>Secondary</td>\n",
       "      <td>Richest</td>\n",
       "      <td>2</td>\n",
       "      <td>22</td>\n",
       "      <td>95.0</td>\n",
       "      <td>Moderate</td>\n",
       "      <td>Yes</td>\n",
       "      <td>No</td>\n",
       "      <td>Living with her</td>\n",
       "      <td>No</td>\n",
       "      <td>Yes</td>\n",
       "    </tr>\n",
       "  </tbody>\n",
       "</table>\n",
       "</div>"
      ],
      "text/plain": [
       "    Age in 5-year groups Type of place of residence Highest educational level  \\\n",
       "3                   27.0                      Urban                 Secondary   \n",
       "5                   32.0                      Urban                    Higher   \n",
       "6                   37.0                      Urban                 Secondary   \n",
       "9                   22.0                      Urban                 Secondary   \n",
       "12                  27.0                      Urban                    Higher   \n",
       "13                  22.0                      Urban                    Higher   \n",
       "14                  22.0                      Urban                    Higher   \n",
       "16                  27.0                      Urban                    Higher   \n",
       "17                  27.0                      Urban                    Higher   \n",
       "18                  27.0                      Urban                 Secondary   \n",
       "\n",
       "   Wealth index combined  Births in last five years  \\\n",
       "3                Richest                          1   \n",
       "5                Richest                          1   \n",
       "6                Richest                          2   \n",
       "9                Richest                          1   \n",
       "12               Richest                          1   \n",
       "13               Richest                          2   \n",
       "14               Richest                          2   \n",
       "16               Richest                          2   \n",
       "17               Richest                          2   \n",
       "18               Richest                          2   \n",
       "\n",
       "    Age of respondent at 1st birth  \\\n",
       "3                               25   \n",
       "5                               30   \n",
       "6                               32   \n",
       "9                               19   \n",
       "12                              24   \n",
       "13                              19   \n",
       "14                              19   \n",
       "16                              22   \n",
       "17                              22   \n",
       "18                              22   \n",
       "\n",
       "    Hemoglobin level adjusted for altitude and smoking Anemia level  \\\n",
       "3                                                95.0      Moderate   \n",
       "5                                               113.0          Mild   \n",
       "6                                               121.0    Not anemic   \n",
       "9                                               108.0      Moderate   \n",
       "12                                              116.0          Mild   \n",
       "13                                              118.0          Mild   \n",
       "14                                              118.0          Mild   \n",
       "16                                              134.0    Not anemic   \n",
       "17                                              134.0    Not anemic   \n",
       "18                                               95.0      Moderate   \n",
       "\n",
       "   Have mosquito bed net for sleeping (from household questionnaire)  \\\n",
       "3                                                 Yes                  \n",
       "5                                                 Yes                  \n",
       "6                                                 Yes                  \n",
       "9                                                 Yes                  \n",
       "12                                                Yes                  \n",
       "13                                                Yes                  \n",
       "14                                                Yes                  \n",
       "16                                                Yes                  \n",
       "17                                                Yes                  \n",
       "18                                                Yes                  \n",
       "\n",
       "   Smokes cigarettes Currently residing with husband/partner  \\\n",
       "3                 No                         Living with her   \n",
       "5                 No                         Living with her   \n",
       "6                 No                         Living with her   \n",
       "9                 No                         Living with her   \n",
       "12                No                         Living with her   \n",
       "13                No                         Living with her   \n",
       "14                No                         Living with her   \n",
       "16                No                         Living with her   \n",
       "17                No                         Living with her   \n",
       "18                No                         Living with her   \n",
       "\n",
       "   Had fever in last two weeks Taking iron pills, sprinkles or syrup  \n",
       "3                           No                                    No  \n",
       "5                           No                                    No  \n",
       "6                           No                                   Yes  \n",
       "9                           No                                   Yes  \n",
       "12                          No                                    No  \n",
       "13                          No                                   Yes  \n",
       "14                          No                                    No  \n",
       "16                          No                                    No  \n",
       "17                          No                                    No  \n",
       "18                          No                                   Yes  "
      ]
     },
     "execution_count": 78,
     "metadata": {},
     "output_type": "execute_result"
    }
   ],
   "source": [
    "data.drop('Anemia level.1', axis=1, inplace=True)\n",
    "data.dropna(subset=['Anemia level', 'Had fever in last two weeks','Taking iron pills, sprinkles or syrup'],inplace=True)\n",
    "\n",
    "data.rename(columns={'Hemoglobin level adjusted for altitude and smoking (g/dl - 1 decimal)':\n",
    "    'Hemoglobin level adjusted for altitude and smoking'}, inplace=True)\n",
    "data.rename(columns={'Hemoglobin level adjusted for altitude (g/dl - 1 decimal)':\n",
    "    'Hemoglobin level adjusted for altitude'}, inplace=True)\n",
    "\n",
    "data['Currently residing with husband/partner'].fillna(data['Currently residing with husband/partner'].mode().iloc[0], inplace=True)\n",
    "data['Hemoglobin level adjusted for altitude and smoking'].fillna(data['Hemoglobin level adjusted for altitude and smoking'].mean(), inplace=True)\n",
    "\n",
    "data['Age in 5-year groups'] = data['Age in 5-year groups'].apply(lambda x: sum(map(int,x.split('-')))/2)\n",
    "\n",
    "data.drop(columns=['When child put to breast', \n",
    "                   'Hemoglobin level adjusted for altitude',\n",
    "                   'Current marital status'],inplace=True)\n",
    "\n",
    "data = data[data['Currently residing with husband/partner'].isin(['Living with her', 'Staying elsewhere'])]\n",
    "data = data[data['Had fever in last two weeks'].isin(['No', 'Yes'])]\n",
    "data = data[data['Taking iron pills, sprinkles or syrup'].isin(['No', 'Yes'])]\n",
    "\n",
    "categorical_columns = ['Type of place of residence', \n",
    "                       'Highest educational level', \n",
    "                       'Wealth index combined', \n",
    "                       'Have mosquito bed net for sleeping (from household questionnaire)', \n",
    "                       'Smokes cigarettes', 'Currently residing with husband/partner', \n",
    "                       'Had fever in last two weeks', \n",
    "                       'Taking iron pills, sprinkles or syrup']\n",
    "\n",
    "numerical_columns = ['Age in 5-year groups', \n",
    "                     'Births in last five years', \n",
    "                     'Age of respondent at 1st birth', \n",
    "                     'Hemoglobin level adjusted for altitude and smoking']\n",
    "\n",
    "label_column = 'Anemia level'\n",
    "\n",
    "data.head(10)"
   ]
  },
  {
   "cell_type": "code",
   "execution_count": 79,
   "metadata": {},
   "outputs": [
    {
     "data": {
      "text/plain": [
       "<Axes: xlabel='Anemia level', ylabel='Count'>"
      ]
     },
     "execution_count": 79,
     "metadata": {},
     "output_type": "execute_result"
    },
    {
     "data": {
      "image/png": "[encoded data removed]",
      "text/plain": [
       "<Figure size 640x480 with 1 Axes>"
      ]
     },
     "metadata": {},
     "output_type": "display_data"
    }
   ],
   "source": [
    "sns.histplot(data=data, x='Anemia level', hue='Anemia level', multiple='stack')"
   ]
  },
  {
   "cell_type": "code",
   "execution_count": 80,
   "metadata": {},
   "outputs": [
    {
     "data": {
      "text/plain": [
       "<seaborn.axisgrid.FacetGrid at 0x29bad3640>"
      ]
     },
     "execution_count": 80,
     "metadata": {},
     "output_type": "execute_result"
    },
    {
     "data": {
      "image/png": "[encoded data removed]",
      "text/plain": [
       "<Figure size 500x500 with 1 Axes>"
      ]
     },
     "metadata": {},
     "output_type": "display_data"
    }
   ],
   "source": [
    "sns.displot(data['Hemoglobin level adjusted for altitude and smoking'])"
   ]
  },
  {
   "cell_type": "code",
   "execution_count": 81,
   "metadata": {},
   "outputs": [
    {
     "data": {
      "text/plain": [
       "<Axes: >"
      ]
     },
     "execution_count": 81,
     "metadata": {},
     "output_type": "execute_result"
    },
    {
     "data": {
      "image/png": "[encoded data removed]",
      "text/plain": [
       "<Figure size 640x480 with 2 Axes>"
      ]
     },
     "metadata": {},
     "output_type": "display_data"
    }
   ],
   "source": [
    "sns.heatmap(data.select_dtypes('number').corr(), annot=True, vmin=-1, vmax=1)"
   ]
  },
  {
   "cell_type": "code",
   "execution_count": 82,
   "metadata": {},
   "outputs": [
    {
     "data": {
      "text/plain": [
       "<Axes: xlabel='Anemia level', ylabel='Wealth index combined'>"
      ]
     },
     "execution_count": 82,
     "metadata": {},
     "output_type": "execute_result"
    },
    {
     "data": {
      "image/png": "[encoded data removed]",
      "text/plain": [
       "<Figure size 640x480 with 2 Axes>"
      ]
     },
     "metadata": {},
     "output_type": "display_data"
    }
   ],
   "source": [
    "sns.heatmap(pd.crosstab(data['Wealth index combined'], data['Anemia level']), annot=True, fmt='d')"
   ]
  },
  {
   "cell_type": "markdown",
   "metadata": {},
   "source": [
    "### Change categorical's colums datatype into categorical type in pandas"
   ]
  },
  {
   "cell_type": "code",
   "execution_count": 83,
   "metadata": {},
   "outputs": [
    {
     "name": "stdout",
     "output_type": "stream",
     "text": [
      "Index(['Rural', 'Urban'], dtype='object') Type of place of residence\n",
      "Index(['Higher', 'No education', 'Primary', 'Secondary'], dtype='object') Highest educational level\n",
      "Index(['Middle', 'Poorer', 'Poorest', 'Richer', 'Richest'], dtype='object') Wealth index combined\n",
      "Index(['No', 'Yes'], dtype='object') Have mosquito bed net for sleeping (from household questionnaire)\n",
      "Index(['No', 'Yes'], dtype='object') Smokes cigarettes\n",
      "Index(['Living with her', 'Staying elsewhere'], dtype='object') Currently residing with husband/partner\n",
      "Index(['No', 'Yes'], dtype='object') Had fever in last two weeks\n",
      "Index(['No', 'Yes'], dtype='object') Taking iron pills, sprinkles or syrup\n",
      "Index(['Mild', 'Moderate', 'Not anemic', 'Severe'], dtype='object') Label\n"
     ]
    }
   ],
   "source": [
    "for category in categorical_columns:\n",
    "    data[category] = data[category].astype('category')\n",
    "data[label_column] = data[label_column].astype('category')\n",
    "\n",
    "for categorical in categorical_columns:\n",
    "    print(data[categorical].cat.categories, categorical)\n",
    "print(data[label_column].cat.categories, \"Label\")"
   ]
  },
  {
   "cell_type": "markdown",
   "metadata": {},
   "source": [
    "### Encode categorical type with it number codes and convert it to Tensor"
   ]
  },
  {
   "cell_type": "code",
   "execution_count": 84,
   "metadata": {},
   "outputs": [
    {
     "data": {
      "text/plain": [
       "tensor([[1, 3, 4, 1, 0, 0, 0, 0],\n",
       "        [1, 0, 4, 1, 0, 0, 0, 0],\n",
       "        [1, 3, 4, 1, 0, 0, 0, 1],\n",
       "        [1, 3, 4, 1, 0, 0, 0, 1],\n",
       "        [1, 0, 4, 1, 0, 0, 0, 0],\n",
       "        [1, 0, 4, 1, 0, 0, 0, 1],\n",
       "        [1, 0, 4, 1, 0, 0, 0, 0],\n",
       "        [1, 0, 4, 1, 0, 0, 0, 0],\n",
       "        [1, 0, 4, 1, 0, 0, 0, 0],\n",
       "        [1, 3, 4, 1, 0, 0, 0, 1]])"
      ]
     },
     "execution_count": 84,
     "metadata": {},
     "output_type": "execute_result"
    }
   ],
   "source": [
    "categorical_np = [data[i].cat.codes.values for i in categorical_columns]\n",
    "categorical_data = np.stack(categorical_np, 1)\n",
    "categorical_data = torch.tensor(categorical_data, dtype=torch.int64)\n",
    "categorical_data[:10]"
   ]
  },
  {
   "cell_type": "markdown",
   "metadata": {},
   "source": [
    "### Convert numerical columns to Tensor"
   ]
  },
  {
   "cell_type": "code",
   "execution_count": 85,
   "metadata": {},
   "outputs": [
    {
     "data": {
      "text/plain": [
       "tensor([[ 27.,   1.,  25.,  95.],\n",
       "        [ 32.,   1.,  30., 113.],\n",
       "        [ 37.,   2.,  32., 121.],\n",
       "        [ 22.,   1.,  19., 108.],\n",
       "        [ 27.,   1.,  24., 116.],\n",
       "        [ 22.,   2.,  19., 118.],\n",
       "        [ 22.,   2.,  19., 118.],\n",
       "        [ 27.,   2.,  22., 134.],\n",
       "        [ 27.,   2.,  22., 134.],\n",
       "        [ 27.,   2.,  22.,  95.]])"
      ]
     },
     "execution_count": 85,
     "metadata": {},
     "output_type": "execute_result"
    }
   ],
   "source": [
    "numerical_data = np.stack([data[i].values for i in numerical_columns], 1)\n",
    "numerical_data = torch.tensor(numerical_data, dtype=torch.float)\n",
    "numerical_data[:10]"
   ]
  },
  {
   "cell_type": "markdown",
   "metadata": {},
   "source": [
    "### Convert output label into Tensor"
   ]
  },
  {
   "cell_type": "code",
   "execution_count": 86,
   "metadata": {},
   "outputs": [
    {
     "data": {
      "text/plain": [
       "tensor([1, 0, 2, 1, 0, 0, 0, 2, 2, 1], dtype=torch.int8)"
      ]
     },
     "execution_count": 86,
     "metadata": {},
     "output_type": "execute_result"
    }
   ],
   "source": [
    "outputs = torch.tensor(data[label_column].cat.codes.values).flatten()\n",
    "outputs[:10]"
   ]
  },
  {
   "cell_type": "markdown",
   "metadata": {},
   "source": [
    "### Check correctness of dimension"
   ]
  },
  {
   "cell_type": "code",
   "execution_count": 87,
   "metadata": {},
   "outputs": [
    {
     "data": {
      "text/plain": [
       "(torch.Size([11809, 8]), torch.Size([11809, 4]), torch.Size([11809]))"
      ]
     },
     "execution_count": 87,
     "metadata": {},
     "output_type": "execute_result"
    }
   ],
   "source": [
    "categorical_data.shape, numerical_data.shape, outputs.shape"
   ]
  },
  {
   "cell_type": "markdown",
   "metadata": {},
   "source": [
    "### Split the data into trainset and testset"
   ]
  },
  {
   "cell_type": "code",
   "execution_count": 88,
   "metadata": {},
   "outputs": [
    {
     "name": "stdout",
     "output_type": "stream",
     "text": [
      "torch.Size([9448, 8]) torch.Size([2361, 8])\n",
      "torch.Size([9448, 4]) torch.Size([2361, 4])\n",
      "torch.Size([9448]) torch.Size([2361])\n"
     ]
    }
   ],
   "source": [
    "total_records = data.shape[0]\n",
    "test_records = int(total_records * .2) # 20% of the data for testing\n",
    "train_records = total_records - test_records # 80% of the data for training\n",
    "\n",
    "categorical_train_data = categorical_data[:train_records]\n",
    "categorical_test_data = categorical_data[train_records:]\n",
    "numerical_train_data = numerical_data[:train_records]\n",
    "numerical_test_data = numerical_data[train_records:]\n",
    "train_label = outputs[:train_records]\n",
    "test_label = outputs[train_records:]\n",
    "\n",
    "print(categorical_train_data.shape, categorical_test_data.shape)\n",
    "print(numerical_train_data.shape, numerical_test_data.shape)\n",
    "print(train_label.shape, test_label.shape)"
   ]
  },
  {
   "cell_type": "markdown",
   "metadata": {},
   "source": [
    "## Training"
   ]
  },
  {
   "cell_type": "markdown",
   "metadata": {},
   "source": [
    "### Define network topology"
   ]
  },
  {
   "cell_type": "code",
   "execution_count": 89,
   "metadata": {},
   "outputs": [],
   "source": [
    "class Model(nn.Module):\n",
    "\n",
    "    def __init__(self,num_categorical_cols, num_numerical_cols, output_size, layers, p=0.4):\n",
    "        super().__init__()\n",
    "        self.batch_norm_num = nn.BatchNorm1d(num_numerical_cols)\n",
    "\n",
    "        all_layers = []\n",
    "        input_size = num_categorical_cols + num_numerical_cols\n",
    "\n",
    "        for i in layers:\n",
    "            all_layers.append(nn.Linear(input_size, i))\n",
    "            all_layers.append(nn.ReLU(inplace=True))\n",
    "            all_layers.append(nn.BatchNorm1d(i))\n",
    "            all_layers.append(nn.Dropout(p))\n",
    "            input_size = i\n",
    "\n",
    "        all_layers.append(nn.Linear(layers[-1], output_size))\n",
    "\n",
    "        self.layers = nn.Sequential(*all_layers)\n",
    "\n",
    "    def forward(self, x_categorical, x_numerical):\n",
    "        x_numerical = self.batch_norm_num(x_numerical)\n",
    "        x = torch.cat([x_categorical, x_numerical], 1)\n",
    "        x = self.layers(x)\n",
    "        return x "
   ]
  },
  {
   "cell_type": "markdown",
   "metadata": {},
   "source": [
    "### Select hidden layer size and instantiate the model"
   ]
  },
  {
   "cell_type": "code",
   "execution_count": 90,
   "metadata": {},
   "outputs": [
    {
     "name": "stdout",
     "output_type": "stream",
     "text": [
      "Model(\n",
      "  (batch_norm_num): BatchNorm1d(4, eps=1e-05, momentum=0.1, affine=True, track_running_stats=True)\n",
      "  (layers): Sequential(\n",
      "    (0): Linear(in_features=12, out_features=200, bias=True)\n",
      "    (1): ReLU(inplace=True)\n",
      "    (2): BatchNorm1d(200, eps=1e-05, momentum=0.1, affine=True, track_running_stats=True)\n",
      "    (3): Dropout(p=0.5, inplace=False)\n",
      "    (4): Linear(in_features=200, out_features=100, bias=True)\n",
      "    (5): ReLU(inplace=True)\n",
      "    (6): BatchNorm1d(100, eps=1e-05, momentum=0.1, affine=True, track_running_stats=True)\n",
      "    (7): Dropout(p=0.5, inplace=False)\n",
      "    (8): Linear(in_features=100, out_features=50, bias=True)\n",
      "    (9): ReLU(inplace=True)\n",
      "    (10): BatchNorm1d(50, eps=1e-05, momentum=0.1, affine=True, track_running_stats=True)\n",
      "    (11): Dropout(p=0.5, inplace=False)\n",
      "    (12): Linear(in_features=50, out_features=4, bias=True)\n",
      "  )\n",
      ")\n"
     ]
    }
   ],
   "source": [
    "hidden_layers = [200,100,50]\n",
    "class_count = int(data[label_column].cat.codes.nunique())\n",
    "model = Model(categorical_data.shape[1], numerical_data.shape[1], class_count, hidden_layers, p=0.5)\n",
    "print(model)"
   ]
  },
  {
   "cell_type": "markdown",
   "metadata": {},
   "source": [
    "### Move all Tensor into MPS (Apple silicon) device for GPU acceleration"
   ]
  },
  {
   "cell_type": "code",
   "execution_count": 91,
   "metadata": {},
   "outputs": [
    {
     "name": "stdout",
     "output_type": "stream",
     "text": [
      "MPS device found.\n"
     ]
    }
   ],
   "source": [
    "if torch.backends.mps.is_available():\n",
    "    print (\"MPS device found.\")\n",
    "else:\n",
    "    print(\"MPS device not found.\")\n",
    "\n",
    "mps_device = torch.device(\"mps\" if torch.backends.mps.is_available() else \"cpu\")\n",
    "\n",
    "model.to(mps_device)\n",
    "categorical_train_data = categorical_train_data.to(mps_device)\n",
    "numerical_train_data = numerical_train_data.to(mps_device)\n",
    "categorical_test_data = categorical_test_data.to(mps_device)\n",
    "numerical_test_data = numerical_test_data.to(mps_device)\n",
    "train_label = train_label.to(mps_device)\n",
    "test_label = test_label.to(mps_device)  "
   ]
  },
  {
   "cell_type": "markdown",
   "metadata": {},
   "source": [
    "### Create custom dataset for train dataset in batch"
   ]
  },
  {
   "cell_type": "code",
   "execution_count": 92,
   "metadata": {},
   "outputs": [],
   "source": [
    "class CustomDataset(TensorDataset):\n",
    "    def __init__(self, x_categorical, x_numerical, y):\n",
    "        super().__init__(x_categorical, x_numerical, y)\n",
    "        self.x_categorical = x_categorical\n",
    "        self.x_numerical = x_numerical\n",
    "        self.y = y\n",
    "\n",
    "    def __getitem__(self, index):\n",
    "        return self.x_categorical[index], self.x_numerical[index], self.y[index]\n",
    "\n",
    "    def __len__(self):\n",
    "        return len(self.y)"
   ]
  },
  {
   "cell_type": "markdown",
   "metadata": {},
   "source": [
    "### Hyper parameter"
   ]
  },
  {
   "cell_type": "code",
   "execution_count": 93,
   "metadata": {},
   "outputs": [],
   "source": [
    "train_dataset = CustomDataset(categorical_train_data, numerical_train_data, train_label)\n",
    "train_loader = DataLoader(dataset=train_dataset, batch_size=1000, shuffle=True)\n",
    "loss_function = nn.CrossEntropyLoss()\n",
    "optimizer = torch.optim.Adam(model.parameters(), lr=0.001)\n",
    "epochs = 100"
   ]
  },
  {
   "cell_type": "markdown",
   "metadata": {},
   "source": [
    "### The traning loop"
   ]
  },
  {
   "cell_type": "code",
   "execution_count": 94,
   "metadata": {},
   "outputs": [
    {
     "name": "stdout",
     "output_type": "stream",
     "text": [
      "Epoch:   1 Batch: 0 Loss: 1.5522854328155518\n",
      "Epoch:   1 Batch: 4 Loss: 1.327212929725647\n",
      "Epoch:   1 Batch: 8 Loss: 1.1415598392486572\n",
      "Epoch:   1 Loss: 1.30125189\n",
      "Epoch:  26 Batch: 0 Loss: 0.3733670115470886\n",
      "Epoch:  26 Batch: 4 Loss: 0.39191606640815735\n",
      "Epoch:  26 Batch: 8 Loss: 0.3574337363243103\n",
      "Epoch:  26 Loss: 0.37491432\n",
      "Epoch:  51 Batch: 0 Loss: 0.30910611152648926\n",
      "Epoch:  51 Batch: 4 Loss: 0.31788089871406555\n",
      "Epoch:  51 Batch: 8 Loss: 0.3161839544773102\n",
      "Epoch:  51 Loss: 0.32522395\n",
      "Epoch:  76 Batch: 0 Loss: 0.2943154275417328\n",
      "Epoch:  76 Batch: 4 Loss: 0.35069409012794495\n",
      "Epoch:  76 Batch: 8 Loss: 0.3239276111125946\n",
      "Epoch:  76 Loss: 0.30669957\n",
      "Final Epoch: 100 Loss: 0.2956584990\n"
     ]
    },
    {
     "data": {
      "image/png": "[encoded data removed]",
      "text/plain": [
       "<Figure size 640x480 with 1 Axes>"
      ]
     },
     "metadata": {},
     "output_type": "display_data"
    }
   ],
   "source": [
    "model.train()\n",
    "aggregated_losses = []\n",
    "\n",
    "for epoch in range(1, epochs + 1):\n",
    "    epoch_loss = []\n",
    "    for batch_idx, (categorical, numerical, labels) in enumerate(train_loader):\n",
    "        optimizer.zero_grad()\n",
    "        pred = model(categorical, numerical)\n",
    "        loss = loss_function(pred, labels)\n",
    "        epoch_loss.append(loss.item())\n",
    "        if epoch % 25 == 1 and batch_idx % 4 == 0:\n",
    "            print(f'Epoch: {epoch:3} Batch: {batch_idx} Loss: {loss.item()}')\n",
    "        loss.backward()\n",
    "        optimizer.step()  \n",
    "    \n",
    "    mean_epoch_loss = torch.tensor(epoch_loss).mean()\n",
    "    aggregated_losses.append(mean_epoch_loss)\n",
    "\n",
    "    if epoch % 25 == 1:\n",
    "        print(f'Epoch: {epoch:3} Loss: {mean_epoch_loss:10.8f}')\n",
    "\n",
    "print(f'Final Epoch: {epoch:3} Loss: {mean_epoch_loss:10.10f}')\n",
    "\n",
    "# Plotting\n",
    "plt.plot(range(1, epochs + 1), aggregated_losses)\n",
    "plt.title('Training Loss Over Epochs')\n",
    "plt.xlabel('Epoch')\n",
    "plt.ylabel('Loss')\n",
    "plt.show()"
   ]
  },
  {
   "cell_type": "markdown",
   "metadata": {},
   "source": [
    "## Validation"
   ]
  },
  {
   "cell_type": "markdown",
   "metadata": {},
   "source": [
    "### Model evaluation"
   ]
  },
  {
   "cell_type": "code",
   "execution_count": 95,
   "metadata": {},
   "outputs": [
    {
     "name": "stdout",
     "output_type": "stream",
     "text": [
      "Loss: 0.25558493\n"
     ]
    }
   ],
   "source": [
    "with torch.no_grad():\n",
    "    model.eval()\n",
    "    eval = model(categorical_test_data, numerical_test_data)\n",
    "    loss = loss_function(eval, test_label)\n",
    "    print(f'Loss: {loss:.8f}')\n"
   ]
  },
  {
   "cell_type": "code",
   "execution_count": 96,
   "metadata": {},
   "outputs": [
    {
     "name": "stdout",
     "output_type": "stream",
     "text": [
      "tensor([[  0.3976,   3.8163,  -3.5434,  -0.6839],\n",
      "        [  0.2669,   4.0193,  -3.9572,  -0.4936],\n",
      "        [ -4.7872,   5.9971, -10.1637,   7.7651],\n",
      "        [  1.1964,   3.0561,  -1.9703,  -1.8816],\n",
      "        [  1.1518,   3.1872,  -2.2245,  -1.8172]], device='mps:0')\n",
      "tensor([1, 1, 3, 1, 1])\n"
     ]
    }
   ],
   "source": [
    "print(eval[:5])\n",
    "eval = np.argmax(eval.detach().cpu(), axis=1)\n",
    "print(eval[:5])"
   ]
  },
  {
   "cell_type": "markdown",
   "metadata": {},
   "source": [
    "### Report performance"
   ]
  },
  {
   "cell_type": "code",
   "execution_count": 97,
   "metadata": {},
   "outputs": [
    {
     "name": "stdout",
     "output_type": "stream",
     "text": [
      "[[553  89   6   0]\n",
      " [  8 610   0   0]\n",
      " [ 74   2 987   0]\n",
      " [  0   8   0  24]]\n",
      "--------------------------------------------------------------------------------\n",
      "              precision    recall  f1-score   support\n",
      "\n",
      "           0       0.87      0.85      0.86       648\n",
      "           1       0.86      0.99      0.92       618\n",
      "           2       0.99      0.93      0.96      1063\n",
      "           3       1.00      0.75      0.86        32\n",
      "\n",
      "    accuracy                           0.92      2361\n",
      "   macro avg       0.93      0.88      0.90      2361\n",
      "weighted avg       0.93      0.92      0.92      2361\n",
      "\n",
      "--------------------------------------------------------------------------------\n",
      "accuracy: 92.07962727657772 %\n"
     ]
    }
   ],
   "source": [
    "test_label = test_label.detach().cpu()\n",
    "print(confusion_matrix(test_label,eval))\n",
    "print(\"--------------------------------------------------------------------------------\")\n",
    "print(classification_report(test_label,eval))\n",
    "print(\"--------------------------------------------------------------------------------\")\n",
    "print(f\"accuracy: {accuracy_score(test_label, eval)*100} %\")"
   ]
  },
  {
   "cell_type": "markdown",
   "metadata": {},
   "source": [
    "### Inference with unseen data"
   ]
  },
  {
   "cell_type": "code",
   "execution_count": 98,
   "metadata": {},
   "outputs": [],
   "source": [
    "unseen = pd.read_csv('/Users/ponynie/Developer/Python_Code/IntroDMLabChula/Final_Project/unseen.csv')\n",
    "\n",
    "unseen.rename(columns={'Hemoglobin level adjusted for altitude and smoking (g/dl - 1 decimal)':\n",
    "    'Hemoglobin level adjusted for altitude and smoking'}, inplace=True)\n",
    "unseen.rename(columns={'Hemoglobin level adjusted for altitude (g/dl - 1 decimal)':\n",
    "    'Hemoglobin level adjusted for altitude'}, inplace=True)\n",
    "\n",
    "unseen['Age in 5-year groups'] = unseen['Age in 5-year groups'].apply(lambda x: sum(map(int,x.split('-')))/2)\n",
    "unseen.drop(columns=['When child put to breast', \n",
    "                     'Hemoglobin level adjusted for altitude', \n",
    "                     'Current marital status'],inplace=True)\n",
    "\n",
    "categorical_columns = ['Type of place of residence', \n",
    "                       'Highest educational level', \n",
    "                       'Wealth index combined', \n",
    "                       'Have mosquito bed net for sleeping (from household questionnaire)', \n",
    "                       'Smokes cigarettes', 'Currently residing with husband/partner', \n",
    "                       'Had fever in last two weeks', \n",
    "                       'Taking iron pills, sprinkles or syrup']\n",
    "\n",
    "numerical_columns = ['Age in 5-year groups', \n",
    "                     'Births in last five years', \n",
    "                     'Age of respondent at 1st birth', \n",
    "                     'Hemoglobin level adjusted for altitude and smoking']\n",
    "\n",
    "for category in categorical_columns:\n",
    "    unseen[category] = unseen[category].astype('category')\n",
    "categorical_np = [unseen[i].cat.codes.values for i in categorical_columns]\n",
    "categorical_data = np.stack(categorical_np, 1)\n",
    "categorical_data = torch.tensor(categorical_data, dtype=torch.int64)\n",
    "numerical_data = np.stack([unseen[i].values for i in numerical_columns], 1)\n",
    "numerical_data = torch.tensor(numerical_data, dtype=torch.float)\n",
    "\n",
    "model.to('cpu')\n",
    "model.eval()\n",
    "with torch.no_grad():\n",
    "    logit = model(categorical_data, numerical_data)\n",
    "    infer = np.argmax(logit, axis=1)\n",
    "    logit = logit.numpy()\n",
    "    infer = infer.numpy()\n",
    "    unseen['Prediction'] = infer\n",
    "    unseen['confidence 0'] = logit[:,0]\n",
    "    unseen['confidence 1'] = logit[:,1]\n",
    "    unseen['confidence 2'] = logit[:,2]\n",
    "    unseen['confidence 3'] = logit[:,3]\n",
    "    label_mapping = {0: 'Mild', 1: 'Moderate', 2: 'Not anemic', 3: 'Severe'}\n",
    "    unseen['Prediction'] = unseen['Prediction'].map(label_mapping) \n",
    "    unseen.to_csv('prediction_unseen.csv', index=False)\n",
    "\n",
    "    \n",
    "    "
   ]
  }
 ],
 "metadata": {
  "kernelspec": {
   "display_name": ".venv",
   "language": "python",
   "name": "python3"
  },
  "language_info": {
   "codemirror_mode": {
    "name": "ipython",
    "version": 3
   },
   "file_extension": ".py",
   "mimetype": "text/x-python",
   "name": "python",
   "nbconvert_exporter": "python",
   "pygments_lexer": "ipython3",
   "version": "3.10.8"
  }
 },
 "nbformat": 4,
 "nbformat_minor": 2
}
